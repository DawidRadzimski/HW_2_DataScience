{
 "cells": [
  {
   "cell_type": "code",
   "execution_count": 40,
   "id": "6412b7fb-aebb-4356-85cd-4f18dc2211ec",
   "metadata": {},
   "outputs": [],
   "source": [
    "%matplotlib inline\n",
    "import matplotlib.pyplot as plt\n",
    "import seaborn as sns\n",
    "import pandas as pd"
   ]
  },
  {
   "cell_type": "code",
   "execution_count": 3,
   "id": "93a2eff6-c5a9-4636-9aa8-f8ae38301c26",
   "metadata": {},
   "outputs": [],
   "source": [
    "df = pd.read_csv('bestsellers with categories.csv')\n"
   ]
  },
  {
   "cell_type": "code",
   "execution_count": 14,
   "id": "0d1b7f5e-d783-4e00-80c8-a34f054fd61e",
   "metadata": {},
   "outputs": [
    {
     "name": "stdout",
     "output_type": "stream",
     "text": [
      "                                                name  \\\n",
      "0                      10-Day Green Smoothie Cleanse   \n",
      "1                                  11/22/63: A Novel   \n",
      "2            12 Rules for Life: An Antidote to Chaos   \n",
      "3                             1984 (Signet Classics)   \n",
      "4  5,000 Awesome Facts (About Everything!) (Natio...   \n",
      "\n",
      "                     author  user_rating  reviews  price  year        genre  \n",
      "0                  JJ Smith          4.7    17350      8  2016  Non Fiction  \n",
      "1              Stephen King          4.6     2052     22  2011      Fiction  \n",
      "2        Jordan B. Peterson          4.7    18979     15  2018  Non Fiction  \n",
      "3             George Orwell          4.7    21424      6  2017      Fiction  \n",
      "4  National Geographic Kids          4.8     7665     12  2019  Non Fiction  \n",
      "(550, 7)\n"
     ]
    }
   ],
   "source": [
    "print(df.head())\n",
    "print(df.shape)"
   ]
  },
  {
   "cell_type": "markdown",
   "id": "bd0206af-9dcc-4a44-b58b-f4edb38b7f60",
   "metadata": {},
   "source": [
    "# Pytanie: O ilu książkach przechowywane są dane w zbiorze danych?\n",
    "# Odpowiedź: 50"
   ]
  },
  {
   "cell_type": "markdown",
   "id": "eea44d7c-ada7-4387-9cfa-9541a9b628ea",
   "metadata": {},
   "source": [
    "#  Zmieńmy nazwy zmiennych na małe litery i zamieńmy spację na podkreślenie (snake_style)\n"
   ]
  },
  {
   "cell_type": "code",
   "execution_count": 15,
   "id": "734859fe-3faa-4cca-8b6e-0555bd7f2738",
   "metadata": {},
   "outputs": [],
   "source": [
    "df.columns = ['name', 'author', 'user_rating', 'reviews', 'price', 'year', 'genre']\n"
   ]
  },
  {
   "cell_type": "markdown",
   "id": "c408d636-9af1-4e73-9111-334163d3210c",
   "metadata": {},
   "source": [
    "# Pierwotne badanie danych\n",
    "# Sprawdź, czy wszystkie wiersze zawierają wystarczającą ilość danych: wypisz liczbę pustych miejsc (na) w każdej kolumnie (użyj funkcji isna i sum).\n"
   ]
  },
  {
   "cell_type": "code",
   "execution_count": 16,
   "id": "9b5018c4-a39f-4414-8c1d-9b5ae304904f",
   "metadata": {},
   "outputs": [
    {
     "name": "stdout",
     "output_type": "stream",
     "text": [
      "name           0\n",
      "author         0\n",
      "user_rating    0\n",
      "reviews        0\n",
      "price          0\n",
      "year           0\n",
      "genre          0\n",
      "dtype: int64\n"
     ]
    }
   ],
   "source": [
    "print(df.isna().sum())\n"
   ]
  },
  {
   "cell_type": "markdown",
   "id": "c9a21370-9dd8-4f2b-8e15-8e39914ba376",
   "metadata": {},
   "source": [
    "# Pytanie: Czy są jakieś zmienne z brakującymi wartościami? (Tak / Nie)\n",
    "# Odpowiedź: Nie"
   ]
  },
  {
   "cell_type": "markdown",
   "id": "f7a3617d-a35c-46b8-ade2-745b915cc88c",
   "metadata": {},
   "source": [
    "#  Sprawdź unikalne wartości w kolumnie genre (użyj funkcji unique).\n"
   ]
  },
  {
   "cell_type": "code",
   "execution_count": 17,
   "id": "009b4ba9-7dbb-4a7c-9dca-f09ebca1ea30",
   "metadata": {},
   "outputs": [
    {
     "name": "stdout",
     "output_type": "stream",
     "text": [
      "['Non Fiction' 'Fiction']\n"
     ]
    }
   ],
   "source": [
    "print(df['genre'].unique())\n"
   ]
  },
  {
   "cell_type": "markdown",
   "id": "c30fb858-dd3d-4abb-9ae2-3cbabddad13f",
   "metadata": {},
   "source": [
    "# Pytanie: Jakie są unikalne gatunki?\n",
    "# Odpowiedź: ['Non Fiction']"
   ]
  },
  {
   "cell_type": "markdown",
   "id": "786a27aa-1b08-40f4-8667-dd0c75f59dd9",
   "metadata": {},
   "source": [
    "# Spójrz na rozkład cen: zbuduj wykres (użyj kind='hist')\n"
   ]
  },
  {
   "cell_type": "code",
   "execution_count": 18,
   "id": "c00373e0-6f5b-4e07-beb7-560b71af9bc0",
   "metadata": {},
   "outputs": [
    {
     "data": {
      "image/png": "[encoded data removed]",
      "text/plain": [
       "<Figure size 640x480 with 1 Axes>"
      ]
     },
     "metadata": {},
     "output_type": "display_data"
    }
   ],
   "source": [
    "df['price'].plot(kind='hist', bins=20)\n",
    "plt.xlabel('Price')\n",
    "plt.ylabel('Frequency')\n",
    "plt.title('Price Distribution')\n",
    "plt.show()"
   ]
  },
  {
   "cell_type": "markdown",
   "id": "24935370-7111-42f0-a198-93b1fcc63bd5",
   "metadata": {},
   "source": [
    "# Określ maksymalną, minimalną, średnią i medianową cenę (użyj funkcji max, min, mean, median).\n"
   ]
  },
  {
   "cell_type": "code",
   "execution_count": 19,
   "id": "ba16fcc9-6949-46ab-b421-85532b699a27",
   "metadata": {},
   "outputs": [
    {
     "name": "stdout",
     "output_type": "stream",
     "text": [
      "Max Price: 105\n",
      "Min Price: 0\n",
      "Mean Price: 13.1\n",
      "Median Price: 11.0\n"
     ]
    }
   ],
   "source": [
    "max_price = df['price'].max()\n",
    "min_price = df['price'].min()\n",
    "mean_price = df['price'].mean()\n",
    "median_price = df['price'].median()\n",
    "\n",
    "print(f'Max Price: {max_price}')\n",
    "print(f'Min Price: {min_price}')\n",
    "print(f'Mean Price: {mean_price}')\n",
    "print(f'Median Price: {median_price}')"
   ]
  },
  {
   "cell_type": "markdown",
   "id": "d5f1c46d-67b7-49d2-85a8-90f15ee3e3d9",
   "metadata": {},
   "source": [
    "# Pytanie: Cena maksymalna?\n",
    "# Odpowiedź: 105\n",
    "\n",
    "# Pytanie: Cena minimalna?\n",
    "# Odpowiedź: 0\n",
    "\n",
    "# Pytanie: Średnia cena?\n",
    "# Odpowiedź: 13.1\n",
    "\n",
    "# Pytanie: Mediana ceny?\n",
    "# Odpowiedź: 11"
   ]
  },
  {
   "cell_type": "markdown",
   "id": "509d4aaa-6c21-437e-9fdf-3dd0dfea3a2b",
   "metadata": {},
   "source": [
    "\n",
    "# Wyszukiwanie i sortowanie danych\n",
    "# Pytanie: Jaka jest najwyższa ocena w zbiorze danych? Odpowiedź:"
   ]
  },
  {
   "cell_type": "code",
   "execution_count": 20,
   "id": "3683b981-4baf-42d2-8235-a1c624b5565f",
   "metadata": {},
   "outputs": [
    {
     "name": "stdout",
     "output_type": "stream",
     "text": [
      "Highest Rating: 4.9\n"
     ]
    }
   ],
   "source": [
    "highest_rating = df['user_rating'].max()\n",
    "print(f'Highest Rating: {highest_rating}')"
   ]
  },
  {
   "cell_type": "markdown",
   "id": "ff488247-f786-4cc3-be47-08de89e99b10",
   "metadata": {},
   "source": [
    "#  Pytanie: Ile książek ma taką ocenę? Odpowiedź:\n"
   ]
  },
  {
   "cell_type": "code",
   "execution_count": 21,
   "id": "083b4957-3997-4ce8-b934-e84033bd182c",
   "metadata": {},
   "outputs": [
    {
     "name": "stdout",
     "output_type": "stream",
     "text": [
      "Number of books with highest rating: 52\n"
     ]
    }
   ],
   "source": [
    "\n",
    "num_books_highest_rating = df[df['user_rating'] == highest_rating].shape[0]\n",
    "print(f'Number of books with highest rating: {num_books_highest_rating}')"
   ]
  },
  {
   "cell_type": "markdown",
   "id": "bf6c6c9b-d3ba-4565-a1fe-cf24c1cec4dd",
   "metadata": {},
   "source": [
    "# Pytanie: Która książka ma najwięcej recenzji? Odpowiedź:\n"
   ]
  },
  {
   "cell_type": "code",
   "execution_count": 22,
   "id": "b368b99c-c1d8-4228-9d25-6a8594ee0339",
   "metadata": {},
   "outputs": [
    {
     "name": "stdout",
     "output_type": "stream",
     "text": [
      "Book with most reviews: Where the Crawdads Sing\n"
     ]
    }
   ],
   "source": [
    "book_most_reviews = df[df['reviews'] == df['reviews'].max()]['name'].values[0]\n",
    "print(f'Book with most reviews: {book_most_reviews}')"
   ]
  },
  {
   "cell_type": "markdown",
   "id": "d8ac23d8-ecf1-4d4d-9bdd-ec198ec75a54",
   "metadata": {},
   "source": [
    "#  Pytanie: Która z książek z Top 50 w 2015 roku jest najdroższa (możesz użyć pośredniej ramki danych)? Odpowiedź:\n"
   ]
  },
  {
   "cell_type": "code",
   "execution_count": 23,
   "id": "3dd316d3-5802-4756-9ab2-d5d459ebed1d",
   "metadata": {},
   "outputs": [
    {
     "name": "stdout",
     "output_type": "stream",
     "text": [
      "Most expensive book in 2015: Publication Manual of the American Psychological Association, 6th Edition\n"
     ]
    }
   ],
   "source": [
    "most_expensive_book_2015 = df[(df['year'] == 2015)].sort_values(by='price', ascending=False).iloc[0]['name']\n",
    "print(f'Most expensive book in 2015: {most_expensive_book_2015}')"
   ]
  },
  {
   "cell_type": "markdown",
   "id": "dd9d3a94-816a-43cf-aa79-07228c8893f1",
   "metadata": {},
   "source": [
    "# Pytanie: Ile książek z gatunku Fiction znalazło się w Top 50 w 2010 roku (użyj &)? Odpowiedź:\n"
   ]
  },
  {
   "cell_type": "code",
   "execution_count": 24,
   "id": "a7356c57-ca5c-4416-9300-edd78f59dd5c",
   "metadata": {},
   "outputs": [
    {
     "name": "stdout",
     "output_type": "stream",
     "text": [
      "Number of Fiction books in 2010: 20\n"
     ]
    }
   ],
   "source": [
    "num_fiction_books_2010 = df[(df['year'] == 2010) & (df['genre'] == 'Fiction')].shape[0]\n",
    "print(f'Number of Fiction books in 2010: {num_fiction_books_2010}')\n"
   ]
  },
  {
   "cell_type": "markdown",
   "id": "9de5a560-b6e7-49b9-b861-2e332fd28dae",
   "metadata": {},
   "source": [
    "# Pytanie: Ile książek z oceną 4,9 znalazło się w rankingu w 2010 i 2011 roku (użyj | lub funkcji isin)? Odpowiedź:\n"
   ]
  },
  {
   "cell_type": "code",
   "execution_count": 25,
   "id": "57f804e1-cb25-4ba8-bcca-253e32e1734a",
   "metadata": {},
   "outputs": [
    {
     "name": "stdout",
     "output_type": "stream",
     "text": [
      "Number of books with 4.9 rating in 2010 and 2011: 1\n"
     ]
    }
   ],
   "source": [
    "num_books_rating_4_9_2010_2011 = df[(df['user_rating'] == 4.9) & (df['year'].isin([2010, 2011]))].shape[0]\n",
    "print(f'Number of books with 4.9 rating in 2010 and 2011: {num_books_rating_4_9_2010_2011}')\n",
    "\n"
   ]
  },
  {
   "cell_type": "markdown",
   "id": "6dc582a3-ee10-4ef8-a30d-479539289634",
   "metadata": {},
   "source": [
    "#  Posortuj rosnąco według ceny wszystkie książki, które znalazły się w rankingu w 2015 roku i kosztowały mniej niż 8 dolarów.\n"
   ]
  },
  {
   "cell_type": "code",
   "execution_count": 26,
   "id": "1a649fe5-8442-4b3f-b079-cd8dbb2a9b63",
   "metadata": {},
   "outputs": [
    {
     "name": "stdout",
     "output_type": "stream",
     "text": [
      "Last book on sorted list: Old School (Diary of a Wimpy Kid #10)\n"
     ]
    }
   ],
   "source": [
    "sorted_books_2015_under_8 = df[(df['year'] == 2015) & (df['price'] < 8)].sort_values(by='price')\n",
    "last_book_sorted = sorted_books_2015_under_8.iloc[-1]['name']\n",
    "print(f'Last book on sorted list: {last_book_sorted}')"
   ]
  },
  {
   "cell_type": "markdown",
   "id": "11267cf1-fbca-424c-8ad6-e493d46beec5",
   "metadata": {},
   "source": [
    "# Agregacja danych i łączenie tabel\n",
    "# Maksymalne i minimalne ceny dla każdego gatunku"
   ]
  },
  {
   "cell_type": "code",
   "execution_count": 27,
   "id": "3c82c8a9-e5b5-4d89-921b-67b8da00c49c",
   "metadata": {},
   "outputs": [
    {
     "name": "stdout",
     "output_type": "stream",
     "text": [
      "             max  min\n",
      "genre                \n",
      "Fiction       82    0\n",
      "Non Fiction  105    0\n"
     ]
    }
   ],
   "source": [
    "genre_price_stats = df.groupby('genre')['price'].agg(['max', 'min'])\n",
    "print(genre_price_stats)"
   ]
  },
  {
   "cell_type": "markdown",
   "id": "2185da1a-b20a-4695-a1ad-42c5b65e0b60",
   "metadata": {},
   "source": [
    "# Pytanie: Maksymalna cena dla gatunku Fiction:\n",
    "# Odpowiedź: 82\n",
    "\n",
    "# Pytanie: Minimalna cena dla gatunku Fiction:\n",
    "# Odpowiedź: 0\n",
    "\n",
    "# Pytanie: Maksymalna cena dla gatunku Non Fiction:\n",
    "# Odpowiedź: 105\n",
    "\n",
    "# Pytanie: Minimalna cena dla gatunku Non Fiction:\n",
    "# Odpowiedź: 0"
   ]
  },
  {
   "cell_type": "markdown",
   "id": "a77df3d9-a567-482c-919b-4f11eb6342b0",
   "metadata": {},
   "source": [
    "#  Utwórz nową ramkę danych, która będzie przechowywać liczbę książek dla każdego autora\n"
   ]
  },
  {
   "cell_type": "code",
   "execution_count": 29,
   "id": "1944111c-e7ba-466a-a938-c1c1957366f0",
   "metadata": {},
   "outputs": [
    {
     "name": "stdout",
     "output_type": "stream",
     "text": [
      "(248, 1)\n"
     ]
    }
   ],
   "source": [
    "author_book_count = df.groupby('author').agg({'name': 'count'}).rename(columns={'name': 'book_count'})\n",
    "print(author_book_count.shape)"
   ]
  },
  {
   "cell_type": "markdown",
   "id": "f89b9a63-27f3-4323-a71f-85a0a33a7b3c",
   "metadata": {},
   "source": [
    "\n",
    "# Pytanie: Jaki jest wymiar tabeli?\n",
    "# Odpowiedź: (248, 1)"
   ]
  },
  {
   "cell_type": "markdown",
   "id": "40548942-1a6b-4b9b-a646-5074d70098a7",
   "metadata": {},
   "source": [
    "# Pytanie: Który autor ma najwięcej książek?\n"
   ]
  },
  {
   "cell_type": "code",
   "execution_count": 30,
   "id": "a4366391-3243-4bc9-b44b-ebf2ada02d19",
   "metadata": {},
   "outputs": [
    {
     "name": "stdout",
     "output_type": "stream",
     "text": [
      "Author with most books: Jeff Kinney\n"
     ]
    }
   ],
   "source": [
    "most_books_author = author_book_count['book_count'].idxmax()\n",
    "print(f'Author with most books: {most_books_author}')\n"
   ]
  },
  {
   "cell_type": "markdown",
   "id": "20f5ed1e-1a8d-415b-bdc1-fb2d9b804f13",
   "metadata": {},
   "source": [
    "# Pytanie: Ile jest książek tego autora?\n"
   ]
  },
  {
   "cell_type": "code",
   "execution_count": 31,
   "id": "55f28fbf-318a-4bc2-af4a-c10367df8567",
   "metadata": {},
   "outputs": [
    {
     "name": "stdout",
     "output_type": "stream",
     "text": [
      "Number of books by most author: 12\n"
     ]
    }
   ],
   "source": [
    "num_books_most_author = author_book_count['book_count'].max()\n",
    "print(f'Number of books by most author: {num_books_most_author}')"
   ]
  },
  {
   "cell_type": "markdown",
   "id": "d5885171-5c78-461e-acc9-26660a0edfaf",
   "metadata": {},
   "source": [
    "# Utwórz drugą ramkę danych, która będzie zawierać średnią ocenę dla każdego autora\n"
   ]
  },
  {
   "cell_type": "code",
   "execution_count": 32,
   "id": "b7f5ce24-117a-4fe9-9208-ee24b31e2d1b",
   "metadata": {},
   "outputs": [],
   "source": [
    "author_avg_rating = df.groupby('author').agg({'user_rating': 'mean'}).rename(columns={'user_rating': 'avg_rating'})\n"
   ]
  },
  {
   "cell_type": "markdown",
   "id": "3feaf5c3-fc2c-4aae-8875-2e5d5d9e1aef",
   "metadata": {},
   "source": [
    "# Pytanie: Który autor ma najniższą średnią ocenę?\n"
   ]
  },
  {
   "cell_type": "code",
   "execution_count": 33,
   "id": "a94dfa8d-521a-45d3-8da7-a3d29f2f4345",
   "metadata": {},
   "outputs": [
    {
     "name": "stdout",
     "output_type": "stream",
     "text": [
      "Author with lowest avg rating: Donna Tartt\n"
     ]
    }
   ],
   "source": [
    "lowest_avg_rating_author = author_avg_rating['avg_rating'].idxmin()\n",
    "print(f'Author with lowest avg rating: {lowest_avg_rating_author}')\n"
   ]
  },
  {
   "cell_type": "markdown",
   "id": "36a33319-a34f-4c4b-8ec9-bce0cd6f9ccd",
   "metadata": {},
   "source": [
    "# Pytanie: Jaka jest średnia ocena tego autora?\n"
   ]
  },
  {
   "cell_type": "code",
   "execution_count": 34,
   "id": "f23fc518-b354-43f7-a4e7-950a1648a1c6",
   "metadata": {},
   "outputs": [
    {
     "name": "stdout",
     "output_type": "stream",
     "text": [
      "Lowest average rating: 3.9\n"
     ]
    }
   ],
   "source": [
    "lowest_avg_rating = author_avg_rating['avg_rating'].min()\n",
    "print(f'Lowest average rating: {lowest_avg_rating}')\n"
   ]
  },
  {
   "cell_type": "markdown",
   "id": "d38a1240-873a-4082-8c1d-b033f04344c8",
   "metadata": {},
   "source": [
    "#  Połącz dwie ostatnie ramki danych, aby zobaczyć liczbę książek i średnią ocenę dla każdego autora\n"
   ]
  },
  {
   "cell_type": "code",
   "execution_count": 35,
   "id": "72d291f3-7307-48dd-b014-0679ecd65f4e",
   "metadata": {},
   "outputs": [],
   "source": [
    "author_stats = pd.concat([author_book_count, author_avg_rating], axis=1)\n"
   ]
  },
  {
   "cell_type": "markdown",
   "id": "5223b829-31d3-4832-b046-db3531e84752",
   "metadata": {},
   "source": [
    "#  Posortuj ramki danych według rosnącej liczby książek i rosnącej oceny\n"
   ]
  },
  {
   "cell_type": "code",
   "execution_count": 36,
   "id": "a5ec4fe4-7840-4bf5-b003-5df0cdc06885",
   "metadata": {},
   "outputs": [],
   "source": [
    "sorted_author_stats = author_stats.sort_values(by=['book_count', 'avg_rating'])\n"
   ]
  },
  {
   "cell_type": "markdown",
   "id": "4767fca5-133c-48a1-a801-16642f1139d3",
   "metadata": {},
   "source": [
    "# Pytanie: Który autor jest pierwszy na liście?\n"
   ]
  },
  {
   "cell_type": "code",
   "execution_count": 37,
   "id": "f7267e77-a43b-4fd5-a2c5-b5fc005d2a79",
   "metadata": {},
   "outputs": [
    {
     "name": "stdout",
     "output_type": "stream",
     "text": [
      "First author on sorted list: Muriel Barbery\n"
     ]
    }
   ],
   "source": [
    "first_author_sorted = sorted_author_stats.iloc[0].name\n",
    "print(f'First author on sorted list: {first_author_sorted}')"
   ]
  },
  {
   "cell_type": "markdown",
   "id": "c9d472c5-5466-411b-9d8a-d73544cb1684",
   "metadata": {},
   "source": [
    "# Wykres słupkowy - liczba książek w zależności od gatunku\n"
   ]
  },
  {
   "cell_type": "code",
   "execution_count": 41,
   "id": "6197613d-afab-4810-86c4-bfd0b7049ca8",
   "metadata": {},
   "outputs": [
    {
     "data": {
      "image/png": "[encoded data removed]",
      "text/plain": [
       "<Figure size 1000x600 with 1 Axes>"
      ]
     },
     "metadata": {},
     "output_type": "display_data"
    }
   ],
   "source": [
    "plt.figure(figsize=(10, 6))\n",
    "sns.countplot(x='genre', data=df)\n",
    "plt.title('Number of Books by Genre')\n",
    "plt.xlabel('Genre')\n",
    "plt.ylabel('Count')\n",
    "plt.show()\n"
   ]
  },
  {
   "cell_type": "markdown",
   "id": "5661073d-3dae-4d3e-b0d8-d852e8384f38",
   "metadata": {},
   "source": [
    "# Wykres liniowy - średnia cena książek w zależności od roku\n"
   ]
  },
  {
   "cell_type": "code",
   "execution_count": 42,
   "id": "1bcffd26-298a-44ef-88d4-d27339c088dd",
   "metadata": {},
   "outputs": [
    {
     "data": {
      "image/png": "[encoded data removed]",
      "text/plain": [
       "<Figure size 1000x600 with 1 Axes>"
      ]
     },
     "metadata": {},
     "output_type": "display_data"
    }
   ],
   "source": [
    "plt.figure(figsize=(10, 6))\n",
    "sns.lineplot(x='year', y='price', data=df)\n",
    "plt.title('Average Book Price Over Years')\n",
    "plt.xlabel('Year')\n",
    "plt.ylabel('Average Price')\n",
    "plt.show()"
   ]
  },
  {
   "cell_type": "markdown",
   "id": "ce115b6d-e242-4064-8786-8230a5288ac3",
   "metadata": {},
   "source": [
    "# Wykres histogram - rozkład ocen użytkowników\n"
   ]
  },
  {
   "cell_type": "code",
   "execution_count": 43,
   "id": "43238938-084f-4c1c-952d-c077629ce18b",
   "metadata": {},
   "outputs": [
    {
     "data": {
      "image/png": "[encoded data removed]",
      "text/plain": [
       "<Figure size 1000x600 with 1 Axes>"
      ]
     },
     "metadata": {},
     "output_type": "display_data"
    }
   ],
   "source": [
    "plt.figure(figsize=(10, 6))\n",
    "sns.histplot(df['user_rating'], bins=10, kde=True)\n",
    "plt.title('User Rating Distribution')\n",
    "plt.xlabel('User Rating')\n",
    "plt.ylabel('Frequency')\n",
    "plt.show()\n"
   ]
  },
  {
   "cell_type": "code",
   "execution_count": null,
   "id": "29fcaea0-9bd4-4494-b3d0-7efcbff91dd1",
   "metadata": {},
   "outputs": [],
   "source": []
  }
 ],
 "metadata": {
  "kernelspec": {
   "display_name": "Python 3 (ipykernel)",
   "language": "python",
   "name": "python3"
  },
  "language_info": {
   "codemirror_mode": {
    "name": "ipython",
    "version": 3
   },
   "file_extension": ".py",
   "mimetype": "text/x-python",
   "name": "python",
   "nbconvert_exporter": "python",
   "pygments_lexer": "ipython3",
   "version": "3.12.0"
  }
 },
 "nbformat": 4,
 "nbformat_minor": 5
}
